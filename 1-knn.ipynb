{
 "cells": [
  {
   "cell_type": "markdown",
   "metadata": {},
   "source": [
    "# k-NN Algorithm\n",
    "The k-nearest neighbours classifier/regressor is one of the simplest machine learning algorithms.\n",
    "\n",
    "For example, when the algorithm wants to classify something new, it will look at all of the data examples it has and picks the 5 closest examples and use that to determine the class. This means there is no real training phase - it always uses all of the \"training\" data for each input."
   ]
  }
 ],
 "metadata": {
  "kernelspec": {
   "display_name": "Python 3",
   "language": "python",
   "name": "python3"
  },
  "language_info": {
   "codemirror_mode": {
    "name": "ipython",
    "version": 3
   },
   "file_extension": ".py",
   "mimetype": "text/x-python",
   "name": "python",
   "nbconvert_exporter": "python",
   "pygments_lexer": "ipython3",
   "version": "3.6.4"
  }
 },
 "nbformat": 4,
 "nbformat_minor": 2
}
